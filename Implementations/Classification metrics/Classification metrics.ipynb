{
 "cells": [
  {
   "cell_type": "markdown",
   "metadata": {},
   "source": [
    "# Classification metrics"
   ]
  },
  {
   "cell_type": "code",
   "execution_count": 25,
   "metadata": {},
   "outputs": [],
   "source": [
    "#importing All the necessary libraries\n",
    "import pandas as pd \n",
    "import numpy as np\n",
    "import matplotlib.pyplot as plt\n",
    "from sklearn.ensemble import AdaBoostClassifier, BaggingClassifier,RandomForestClassifier\n",
    "from sklearn.naive_bayes import MultinomialNB\n",
    "from sklearn.metrics import accuracy_score,recall_score,f1_score,precision_score\n",
    "from sklearn.svm import SVC\n",
    "from sklearn.feature_extraction.text import CountVectorizer\n",
    "from sklearn.model_selection import train_test_split\n",
    "from sklearn.tree import DecisionTreeClassifier\n",
    "from sklearn.metrics import roc_auc_score,roc_curve"
   ]
  },
  {
   "cell_type": "code",
   "execution_count": 3,
   "metadata": {},
   "outputs": [],
   "source": [
    "#reading the data\n",
    "\n",
    "data=pd.read_table(\"D:/Ai/Data_science/DSND_Term1-master/lessons/Supervised/2_NaiveBayes/smsspamcollection/SMSSpamCollection\",sep='\\t',names=['label', 'sms_message'])"
   ]
  },
  {
   "cell_type": "code",
   "execution_count": 4,
   "metadata": {},
   "outputs": [
    {
     "data": {
      "text/html": [
       "<div>\n",
       "<style scoped>\n",
       "    .dataframe tbody tr th:only-of-type {\n",
       "        vertical-align: middle;\n",
       "    }\n",
       "\n",
       "    .dataframe tbody tr th {\n",
       "        vertical-align: top;\n",
       "    }\n",
       "\n",
       "    .dataframe thead th {\n",
       "        text-align: right;\n",
       "    }\n",
       "</style>\n",
       "<table border=\"1\" class=\"dataframe\">\n",
       "  <thead>\n",
       "    <tr style=\"text-align: right;\">\n",
       "      <th></th>\n",
       "      <th>label</th>\n",
       "      <th>sms_message</th>\n",
       "    </tr>\n",
       "  </thead>\n",
       "  <tbody>\n",
       "    <tr>\n",
       "      <th>0</th>\n",
       "      <td>ham</td>\n",
       "      <td>Go until jurong point, crazy.. Available only ...</td>\n",
       "    </tr>\n",
       "    <tr>\n",
       "      <th>1</th>\n",
       "      <td>ham</td>\n",
       "      <td>Ok lar... Joking wif u oni...</td>\n",
       "    </tr>\n",
       "    <tr>\n",
       "      <th>2</th>\n",
       "      <td>spam</td>\n",
       "      <td>Free entry in 2 a wkly comp to win FA Cup fina...</td>\n",
       "    </tr>\n",
       "    <tr>\n",
       "      <th>3</th>\n",
       "      <td>ham</td>\n",
       "      <td>U dun say so early hor... U c already then say...</td>\n",
       "    </tr>\n",
       "    <tr>\n",
       "      <th>4</th>\n",
       "      <td>ham</td>\n",
       "      <td>Nah I don't think he goes to usf, he lives aro...</td>\n",
       "    </tr>\n",
       "  </tbody>\n",
       "</table>\n",
       "</div>"
      ],
      "text/plain": [
       "  label                                        sms_message\n",
       "0   ham  Go until jurong point, crazy.. Available only ...\n",
       "1   ham                      Ok lar... Joking wif u oni...\n",
       "2  spam  Free entry in 2 a wkly comp to win FA Cup fina...\n",
       "3   ham  U dun say so early hor... U c already then say...\n",
       "4   ham  Nah I don't think he goes to usf, he lives aro..."
      ]
     },
     "execution_count": 4,
     "metadata": {},
     "output_type": "execute_result"
    }
   ],
   "source": [
    "#viewing the data\n",
    "data.head()"
   ]
  },
  {
   "cell_type": "code",
   "execution_count": 5,
   "metadata": {},
   "outputs": [],
   "source": [
    "#converting the categorical feature \"label\" into numerical feature\n",
    "data['label']=data['label'].map({'ham':0,'spam':1})"
   ]
  },
  {
   "cell_type": "code",
   "execution_count": 6,
   "metadata": {},
   "outputs": [
    {
     "data": {
      "text/html": [
       "<div>\n",
       "<style scoped>\n",
       "    .dataframe tbody tr th:only-of-type {\n",
       "        vertical-align: middle;\n",
       "    }\n",
       "\n",
       "    .dataframe tbody tr th {\n",
       "        vertical-align: top;\n",
       "    }\n",
       "\n",
       "    .dataframe thead th {\n",
       "        text-align: right;\n",
       "    }\n",
       "</style>\n",
       "<table border=\"1\" class=\"dataframe\">\n",
       "  <thead>\n",
       "    <tr style=\"text-align: right;\">\n",
       "      <th></th>\n",
       "      <th>label</th>\n",
       "      <th>sms_message</th>\n",
       "    </tr>\n",
       "  </thead>\n",
       "  <tbody>\n",
       "    <tr>\n",
       "      <th>0</th>\n",
       "      <td>0</td>\n",
       "      <td>Go until jurong point, crazy.. Available only ...</td>\n",
       "    </tr>\n",
       "    <tr>\n",
       "      <th>1</th>\n",
       "      <td>0</td>\n",
       "      <td>Ok lar... Joking wif u oni...</td>\n",
       "    </tr>\n",
       "    <tr>\n",
       "      <th>2</th>\n",
       "      <td>1</td>\n",
       "      <td>Free entry in 2 a wkly comp to win FA Cup fina...</td>\n",
       "    </tr>\n",
       "    <tr>\n",
       "      <th>3</th>\n",
       "      <td>0</td>\n",
       "      <td>U dun say so early hor... U c already then say...</td>\n",
       "    </tr>\n",
       "    <tr>\n",
       "      <th>4</th>\n",
       "      <td>0</td>\n",
       "      <td>Nah I don't think he goes to usf, he lives aro...</td>\n",
       "    </tr>\n",
       "  </tbody>\n",
       "</table>\n",
       "</div>"
      ],
      "text/plain": [
       "   label                                        sms_message\n",
       "0      0  Go until jurong point, crazy.. Available only ...\n",
       "1      0                      Ok lar... Joking wif u oni...\n",
       "2      1  Free entry in 2 a wkly comp to win FA Cup fina...\n",
       "3      0  U dun say so early hor... U c already then say...\n",
       "4      0  Nah I don't think he goes to usf, he lives aro..."
      ]
     },
     "execution_count": 6,
     "metadata": {},
     "output_type": "execute_result"
    }
   ],
   "source": [
    "data.head()"
   ]
  },
  {
   "cell_type": "code",
   "execution_count": 7,
   "metadata": {},
   "outputs": [],
   "source": [
    "#Splitting our dataset in training and testing data\n",
    "X_train,X_test,y_train,y_test=train_test_split(data['sms_message'],data['label'],random_state=1,test_size=0.2)"
   ]
  },
  {
   "cell_type": "code",
   "execution_count": 8,
   "metadata": {},
   "outputs": [],
   "source": [
    "#Instantiate the Countvectorizer model and fitting the training and testing data\n",
    "countvector=CountVectorizer()"
   ]
  },
  {
   "cell_type": "code",
   "execution_count": 9,
   "metadata": {},
   "outputs": [],
   "source": [
    "training_data=countvector.fit_transform(X_train)\n",
    "testing_data=countvector.transform(X_test)"
   ]
  },
  {
   "cell_type": "code",
   "execution_count": 10,
   "metadata": {},
   "outputs": [],
   "source": [
    "#Instantiate all other models\n",
    "adaboost=AdaBoostClassifier(base_estimator=DecisionTreeClassifier(max_depth=2),n_estimators=300,learning_rate=0.2)\n",
    "bagging=BaggingClassifier(n_estimators=200)\n",
    "random=RandomForestClassifier(n_estimators=200)\n",
    "naive=MultinomialNB()\n",
    "state=SVC()"
   ]
  },
  {
   "cell_type": "code",
   "execution_count": 11,
   "metadata": {
    "scrolled": true
   },
   "outputs": [
    {
     "data": {
      "text/plain": [
       "SVC(C=1.0, break_ties=False, cache_size=200, class_weight=None, coef0=0.0,\n",
       "    decision_function_shape='ovr', degree=3, gamma='scale', kernel='rbf',\n",
       "    max_iter=-1, probability=False, random_state=None, shrinking=True,\n",
       "    tol=0.001, verbose=False)"
      ]
     },
     "execution_count": 11,
     "metadata": {},
     "output_type": "execute_result"
    }
   ],
   "source": [
    "#Fitting each of our model\n",
    "adaboost.fit(training_data,y_train)\n",
    "bagging.fit(training_data,y_train)\n",
    "random.fit(training_data,y_train)\n",
    "naive.fit(training_data,y_train)\n",
    "state.fit(training_data,y_train)"
   ]
  },
  {
   "cell_type": "code",
   "execution_count": 20,
   "metadata": {},
   "outputs": [],
   "source": [
    "#Predictions of each model\n",
    "pred_adaboost=adaboost.predict(testing_data)\n",
    "pred_proba_adaboost=adaboost.predict_proba(testing_data)[:,1]\n",
    "\n",
    "pred_bagging=bagging.predict(testing_data)\n",
    "pred_proba_bagging=bagging.predict_proba(testing_data)[:,1]\n",
    "\n",
    "pred_random=random.predict(testing_data)\n",
    "pred_proba_random=random.predict_proba(testing_data)[:,1]\n",
    "\n",
    "pred_naive=naive.predict(testing_data)\n",
    "pred_proba_naive=naive.predict_proba(testing_data)[:,1]\n",
    "\n",
    "#If you want to do prediction_proba in SVC the while creating model write: SVC(probability=True), SVC do not probabilistic nature\n",
    "pred_state=state.predict(testing_data)\n"
   ]
  },
  {
   "cell_type": "code",
   "execution_count": 21,
   "metadata": {},
   "outputs": [
    {
     "name": "stdout",
     "output_type": "stream",
     "text": [
      "This is Adaboost model\n",
      "Accuracy score: 0.9874439461883409\n",
      "Precision score: 0.9319727891156463\n",
      "F1 score: 0.951388888888889\n",
      "Recall score: 0.9319727891156463\n",
      "\n",
      "\n",
      "This is Bagging model\n",
      "Accuracy score: 0.9802690582959641\n",
      "Precision score: 0.9183673469387755\n",
      "F1 score: 0.9246575342465754\n",
      "Recall score: 0.9183673469387755\n",
      "\n",
      "\n",
      "This is Random forest model\n",
      "Accuracy score: 0.9847533632286996\n",
      "Precision score: 0.8843537414965986\n",
      "F1 score: 0.9386281588447652\n",
      "Recall score: 0.8843537414965986\n",
      "\n",
      "\n",
      "This is Naive baeyes model\n",
      "Accuracy score: 0.9901345291479821\n",
      "Precision score: 0.9455782312925171\n",
      "F1 score: 0.9619377162629758\n",
      "Recall score: 0.9455782312925171\n",
      "\n",
      "\n",
      "This is SVM model\n",
      "Accuracy score: 0.9874439461883409\n",
      "Precision score: 0.9115646258503401\n",
      "F1 score: 0.9503546099290779\n",
      "Recall score: 0.9115646258503401\n",
      "\n",
      "\n"
     ]
    }
   ],
   "source": [
    "#This function gives the combine result of all the metrics\n",
    "def metric_function(data1,data2,data3=y_test):\n",
    "    print(\"This is {} model\".format(data1))\n",
    "    print(\"Accuracy score: {}\".format(accuracy_score(data2,data3)))\n",
    "    print(\"Precision score: {}\".format(precision_score(data2,data3)))\n",
    "    print(\"F1 score: {}\".format(f1_score(data2,data3)))\n",
    "    print(\"Recall score: {}\".format(recall_score(data3,data2)))\n",
    "    print(\"\\n\")\n",
    "    \n",
    "metric_function(\"Adaboost\",pred_adaboost)\n",
    "metric_function(\"Bagging\",pred_bagging)\n",
    "metric_function(\"Random forest\",pred_random)\n",
    "metric_function(\"Naive baeyes\",pred_naive)\n",
    "metric_function(\"SVM\",pred_state)\n",
    "    \n"
   ]
  },
  {
   "cell_type": "markdown",
   "metadata": {},
   "source": [
    "# Building ROC curves and calculate AUC"
   ]
  },
  {
   "cell_type": "code",
   "execution_count": 24,
   "metadata": {},
   "outputs": [
    {
     "name": "stdout",
     "output_type": "stream",
     "text": [
      "Adaboost score:  0.9982360712880194\n",
      "Bagging score:  0.9963210490807893\n",
      "Naive score:  0.9910889975825042\n",
      "RAndom Forest score:  0.9995748299319728\n"
     ]
    }
   ],
   "source": [
    "#AUC scores\n",
    "print(\"Adaboost score: \",roc_auc_score(y_test,pred_proba_adaboost))\n",
    "print(\"Bagging score: \",roc_auc_score(y_test,pred_proba_bagging))\n",
    "print(\"Naive score: \",roc_auc_score(y_test,pred_proba_naive))\n",
    "print(\"RAndom Forest score: \",roc_auc_score(y_test,pred_proba_random))\n"
   ]
  },
  {
   "cell_type": "code",
   "execution_count": 27,
   "metadata": {},
   "outputs": [
    {
     "data": {
      "image/png": "[encoded data removed]",
      "text/plain": [
       "<Figure size 432x288 with 1 Axes>"
      ]
     },
     "metadata": {
      "needs_background": "light"
     },
     "output_type": "display_data"
    }
   ],
   "source": [
    "def roc_draw(model_name,predicted_proba,y_test=y_test):\n",
    "    fpr,tpr,_=roc_curve(y_test,predicted_proba)\n",
    "    plt.plot(fpr,tpr,linestyle='--',label=model_name)\n",
    "    plt.xlabel(\"False Positive rate\")\n",
    "    plt.ylabel(\"True Posituve Rate\")\n",
    "    plt.legend()\n",
    "    plt.show()\n",
    "    \n",
    "roc_draw(\"Adaboost Classifier\",pred_proba_adaboost)\n",
    "    "
   ]
  },
  {
   "cell_type": "code",
   "execution_count": null,
   "metadata": {},
   "outputs": [],
   "source": []
  }
 ],
 "metadata": {
  "kernelspec": {
   "display_name": "Python 3",
   "language": "python",
   "name": "python3"
  },
  "language_info": {
   "codemirror_mode": {
    "name": "ipython",
    "version": 3
   },
   "file_extension": ".py",
   "mimetype": "text/x-python",
   "name": "python",
   "nbconvert_exporter": "python",
   "pygments_lexer": "ipython3",
   "version": "3.7.6"
  }
 },
 "nbformat": 4,
 "nbformat_minor": 4
}
